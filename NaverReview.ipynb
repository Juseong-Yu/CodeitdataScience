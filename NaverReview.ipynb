{
  "nbformat": 4,
  "nbformat_minor": 0,
  "metadata": {
    "colab": {
      "provenance": [],
      "toc_visible": true,
      "authorship_tag": "ABX9TyPNI4DFsg7PdHILNJkBVfff",
      "include_colab_link": true
    },
    "kernelspec": {
      "name": "python3",
      "display_name": "Python 3"
    },
    "language_info": {
      "name": "python"
    }
  },
  "cells": [
    {
      "cell_type": "markdown",
      "metadata": {
        "id": "view-in-github",
        "colab_type": "text"
      },
      "source": [
        "<a href=\"https://colab.research.google.com/github/Juseong-Yu/CodeitdataScience/blob/main/NaverReview.ipynb\" target=\"_parent\"><img src=\"https://colab.research.google.com/assets/colab-badge.svg\" alt=\"Open In Colab\"/></a>"
      ]
    },
    {
      "cell_type": "markdown",
      "source": [
        "# part1"
      ],
      "metadata": {
        "id": "8zbC_i8hmzfW"
      }
    },
    {
      "cell_type": "code",
      "source": [
        "import requests #url에서 데이터를 가져오는 라이브러리\n",
        "import pandas as pd #데이터프레임\n",
        "from bs4 import BeautifulSoup #웹에서 데이터를 스크레이핑 해주는 라이브러리\n",
        "import re #정규식 라이브러리\n",
        "import time \n",
        "import csv"
      ],
      "metadata": {
        "id": "s0hRrvx634Qe"
      },
      "execution_count": 1,
      "outputs": []
    },
    {
      "cell_type": "code",
      "source": [
        "url = \"https://movie.naver.com/movie/bi/mi/review.naver?code=81888\"\n",
        "resp = requests.get(url) "
      ],
      "metadata": {
        "id": "mIZ37Pnp4Exs"
      },
      "execution_count": 2,
      "outputs": []
    },
    {
      "cell_type": "code",
      "source": [
        "soup = BeautifulSoup(resp.content,'html.parser')"
      ],
      "metadata": {
        "id": "g-m_3qdY5dkC"
      },
      "execution_count": 3,
      "outputs": []
    },
    {
      "cell_type": "code",
      "source": [
        "review_list_tag = soup.find(name='ul', attrs={'class':'rvw_list_area'})\n",
        "review_list_tags = review_list_tag.find_all(name='li')\n",
        "review_nid = review_list_tags[0].find('a').get('onclick')\n",
        "review_nid[-8:-1]"
      ],
      "metadata": {
        "colab": {
          "base_uri": "https://localhost:8080/",
          "height": 35
        },
        "id": "lvBEcXk8DaEc",
        "outputId": "ac342d26-ebb4-45b8-e924-37925636d321"
      },
      "execution_count": 4,
      "outputs": [
        {
          "output_type": "execute_result",
          "data": {
            "text/plain": [
              "'4808692'"
            ],
            "application/vnd.google.colaboratory.intrinsic+json": {
              "type": "string"
            }
          },
          "metadata": {},
          "execution_count": 4
        }
      ]
    },
    {
      "cell_type": "code",
      "source": [
        "title_list = []\n",
        "uid_list = []\n",
        "url_list = []\n",
        "text_list = []"
      ],
      "metadata": {
        "id": "xhTXF6N7EMM_"
      },
      "execution_count": 5,
      "outputs": []
    },
    {
      "cell_type": "code",
      "source": [
        "for li_tag in review_list_tags:\n",
        "    review_title = li_tag.find_all('a')[0].get_text()\n",
        "    title_list.append(review_title)\n",
        "    \n",
        "    review_uid = li_tag.find_all('a')[1].get_text()\n",
        "    uid_list.append(review_uid)\n",
        "    \n",
        "    review_nid = re.findall('\\d{7}', li_tag.find('a').get('onclick'))[0]\n",
        "    review_url = f\"https://movie.naver.com/movie/bi/mi/reviewread.naver?nid={review_nid}&code=81888&order=#tab\"\n",
        "    url_list.append(review_url)    "
      ],
      "metadata": {
        "id": "WuHcmmTXD8u1"
      },
      "execution_count": 6,
      "outputs": []
    },
    {
      "cell_type": "code",
      "source": [
        "url_list"
      ],
      "metadata": {
        "colab": {
          "base_uri": "https://localhost:8080/"
        },
        "id": "MIomPzAPEyYo",
        "outputId": "0f20f2f2-b1d5-4e3a-d3ee-c3af1c607172"
      },
      "execution_count": 7,
      "outputs": [
        {
          "output_type": "execute_result",
          "data": {
            "text/plain": [
              "['https://movie.naver.com/movie/bi/mi/reviewread.naver?nid=4808692&code=81888&order=#tab',\n",
              " 'https://movie.naver.com/movie/bi/mi/reviewread.naver?nid=4808920&code=81888&order=#tab',\n",
              " 'https://movie.naver.com/movie/bi/mi/reviewread.naver?nid=3985907&code=81888&order=#tab',\n",
              " 'https://movie.naver.com/movie/bi/mi/reviewread.naver?nid=4809027&code=81888&order=#tab',\n",
              " 'https://movie.naver.com/movie/bi/mi/reviewread.naver?nid=4808973&code=81888&order=#tab',\n",
              " 'https://movie.naver.com/movie/bi/mi/reviewread.naver?nid=4809018&code=81888&order=#tab',\n",
              " 'https://movie.naver.com/movie/bi/mi/reviewread.naver?nid=4808959&code=81888&order=#tab',\n",
              " 'https://movie.naver.com/movie/bi/mi/reviewread.naver?nid=4810669&code=81888&order=#tab',\n",
              " 'https://movie.naver.com/movie/bi/mi/reviewread.naver?nid=4811078&code=81888&order=#tab',\n",
              " 'https://movie.naver.com/movie/bi/mi/reviewread.naver?nid=4808844&code=81888&order=#tab']"
            ]
          },
          "metadata": {},
          "execution_count": 7
        }
      ]
    },
    {
      "cell_type": "code",
      "source": [
        "for url in url_list:\n",
        "    resp_text = requests.get(url)\n",
        "    soup_text = BeautifulSoup(resp_text.text, 'html.parser')\n",
        "\n",
        "    review_text_tag = soup_text.find(name='div', attrs={'class':'user_tx_area'})\n",
        "\n",
        "    review_text = review_text_tag.get_text()\n",
        "    text_list.append(review_text)\n",
        "    \n",
        "    time.sleep(2)"
      ],
      "metadata": {
        "id": "Z95nbgdYG6Fp"
      },
      "execution_count": 8,
      "outputs": []
    },
    {
      "cell_type": "code",
      "source": [
        "dict_data = {\n",
        "    'title' : title_list, 'user' : uid_list, 'review' : text_list\n",
        "}\n",
        "df = pd.DataFrame(dict_data)\n",
        "df"
      ],
      "metadata": {
        "colab": {
          "base_uri": "https://localhost:8080/",
          "height": 363
        },
        "id": "fZl2riMDRmZC",
        "outputId": "82f27e5c-0ba0-417f-f129-a668f5cec307"
      },
      "execution_count": 9,
      "outputs": [
        {
          "output_type": "execute_result",
          "data": {
            "text/plain": [
              "                                          title      user  \\\n",
              "0          탑건: 매버릭 (Top Gun: Maverick) 후기와 비하인드  myte****   \n",
              "1     탑건:매버릭 ( 전투기가 중요한 것이 아니라 파일럿이 중요하다 )-평점8점  reno****   \n",
              "2                           톰 크루즈의 탑건2가 제작될까요!?  loan****   \n",
              "3  탑건 매버릭...보고 왔습니다(감상이 자꾸 밀려와서 추가가 자꾸 될거 같습니다)  amie****   \n",
              "4            [탑건:메버릭] 이제 필요없어 질 수 있는 것들에 대한 위로.  mult****   \n",
              "5                                 [탑건: 매버릭]을 보고  film****   \n",
              "6                                       탑건: 매버릭  them****   \n",
              "7                              [미국 영화] 탑건 : 매버릭  ford****   \n",
              "8                                       탑건: 매버릭  rome****   \n",
              "9         [영화]탑건: 매버릭-롯데시네마 월드타워 수퍼플렉스 G관 A열 체험  shoy****   \n",
              "\n",
              "                                              review  \n",
              "0  \\n\\n\\n\\n탑건: 매버릭\\n\\n감독\\n조셉 코신스키\\n출연\\n톰 크루즈, 제니퍼...  \n",
              "1  \\n\\n\\n\\n탑건: 매버릭\\n\\n감독\\n조셉 코신스키\\n출연\\n톰 크루즈, 제니퍼...  \n",
              "2  \\n톰 크루즈의 탑건2가 제작될까요!?\\n \\n \\n \\n \\n벌써 50이 훌쩍 넘...  \n",
              "3  \\n\\n\\n\\n탑건: 매버릭\\n\\n감독\\n조셉 코신스키\\n출연\\n톰 크루즈, 마일즈...  \n",
              "4  \\n\\n\\n\\n탑건: 매버릭\\n\\n감독\\n조셉 코신스키\\n출연\\n톰 크루즈, 마일즈...  \n",
              "5  \\n\\n\\n\\n탑건: 매버릭\\n\\n감독\\n조셉 코신스키\\n출연\\n톰 크루즈, 제니퍼...  \n",
              "6  \\n\\n\\n\\n탑건: 매버릭\\n\\n감독\\n조셉 코신스키\\n출연\\n톰 크루즈, 제니퍼...  \n",
              "7  \\n\\n\\n탑건: 매버릭\\n\\n감독\\n조셉 코신스키\\n출연\\n톰 크루즈, 마일즈 텔...  \n",
              "8  \\n영화는 이렇게 만들어야지..쓸데없는 철학도 빼고, 주장도 빼고.간단 명료한 스토...  \n",
              "9  \\n\\n\\n\\n탑건: 매버릭\\n\\n감독\\n조셉 코신스키\\n출연\\n톰 크루즈, 제니퍼...  "
            ],
            "text/html": [
              "\n",
              "  <div id=\"df-88bd2344-4138-4942-aeed-e0d2a4aab22f\">\n",
              "    <div class=\"colab-df-container\">\n",
              "      <div>\n",
              "<style scoped>\n",
              "    .dataframe tbody tr th:only-of-type {\n",
              "        vertical-align: middle;\n",
              "    }\n",
              "\n",
              "    .dataframe tbody tr th {\n",
              "        vertical-align: top;\n",
              "    }\n",
              "\n",
              "    .dataframe thead th {\n",
              "        text-align: right;\n",
              "    }\n",
              "</style>\n",
              "<table border=\"1\" class=\"dataframe\">\n",
              "  <thead>\n",
              "    <tr style=\"text-align: right;\">\n",
              "      <th></th>\n",
              "      <th>title</th>\n",
              "      <th>user</th>\n",
              "      <th>review</th>\n",
              "    </tr>\n",
              "  </thead>\n",
              "  <tbody>\n",
              "    <tr>\n",
              "      <th>0</th>\n",
              "      <td>탑건: 매버릭 (Top Gun: Maverick) 후기와 비하인드</td>\n",
              "      <td>myte****</td>\n",
              "      <td>\\n\\n\\n\\n탑건: 매버릭\\n\\n감독\\n조셉 코신스키\\n출연\\n톰 크루즈, 제니퍼...</td>\n",
              "    </tr>\n",
              "    <tr>\n",
              "      <th>1</th>\n",
              "      <td>탑건:매버릭 ( 전투기가 중요한 것이 아니라 파일럿이 중요하다 )-평점8점</td>\n",
              "      <td>reno****</td>\n",
              "      <td>\\n\\n\\n\\n탑건: 매버릭\\n\\n감독\\n조셉 코신스키\\n출연\\n톰 크루즈, 제니퍼...</td>\n",
              "    </tr>\n",
              "    <tr>\n",
              "      <th>2</th>\n",
              "      <td>톰 크루즈의 탑건2가 제작될까요!?</td>\n",
              "      <td>loan****</td>\n",
              "      <td>\\n톰 크루즈의 탑건2가 제작될까요!?\\n \\n \\n \\n \\n벌써 50이 훌쩍 넘...</td>\n",
              "    </tr>\n",
              "    <tr>\n",
              "      <th>3</th>\n",
              "      <td>탑건 매버릭...보고 왔습니다(감상이 자꾸 밀려와서 추가가 자꾸 될거 같습니다)</td>\n",
              "      <td>amie****</td>\n",
              "      <td>\\n\\n\\n\\n탑건: 매버릭\\n\\n감독\\n조셉 코신스키\\n출연\\n톰 크루즈, 마일즈...</td>\n",
              "    </tr>\n",
              "    <tr>\n",
              "      <th>4</th>\n",
              "      <td>[탑건:메버릭] 이제 필요없어 질 수 있는 것들에 대한 위로.</td>\n",
              "      <td>mult****</td>\n",
              "      <td>\\n\\n\\n\\n탑건: 매버릭\\n\\n감독\\n조셉 코신스키\\n출연\\n톰 크루즈, 마일즈...</td>\n",
              "    </tr>\n",
              "    <tr>\n",
              "      <th>5</th>\n",
              "      <td>[탑건: 매버릭]을 보고</td>\n",
              "      <td>film****</td>\n",
              "      <td>\\n\\n\\n\\n탑건: 매버릭\\n\\n감독\\n조셉 코신스키\\n출연\\n톰 크루즈, 제니퍼...</td>\n",
              "    </tr>\n",
              "    <tr>\n",
              "      <th>6</th>\n",
              "      <td>탑건: 매버릭</td>\n",
              "      <td>them****</td>\n",
              "      <td>\\n\\n\\n\\n탑건: 매버릭\\n\\n감독\\n조셉 코신스키\\n출연\\n톰 크루즈, 제니퍼...</td>\n",
              "    </tr>\n",
              "    <tr>\n",
              "      <th>7</th>\n",
              "      <td>[미국 영화] 탑건 : 매버릭</td>\n",
              "      <td>ford****</td>\n",
              "      <td>\\n\\n\\n탑건: 매버릭\\n\\n감독\\n조셉 코신스키\\n출연\\n톰 크루즈, 마일즈 텔...</td>\n",
              "    </tr>\n",
              "    <tr>\n",
              "      <th>8</th>\n",
              "      <td>탑건: 매버릭</td>\n",
              "      <td>rome****</td>\n",
              "      <td>\\n영화는 이렇게 만들어야지..쓸데없는 철학도 빼고, 주장도 빼고.간단 명료한 스토...</td>\n",
              "    </tr>\n",
              "    <tr>\n",
              "      <th>9</th>\n",
              "      <td>[영화]탑건: 매버릭-롯데시네마 월드타워 수퍼플렉스 G관 A열 체험</td>\n",
              "      <td>shoy****</td>\n",
              "      <td>\\n\\n\\n\\n탑건: 매버릭\\n\\n감독\\n조셉 코신스키\\n출연\\n톰 크루즈, 제니퍼...</td>\n",
              "    </tr>\n",
              "  </tbody>\n",
              "</table>\n",
              "</div>\n",
              "      <button class=\"colab-df-convert\" onclick=\"convertToInteractive('df-88bd2344-4138-4942-aeed-e0d2a4aab22f')\"\n",
              "              title=\"Convert this dataframe to an interactive table.\"\n",
              "              style=\"display:none;\">\n",
              "        \n",
              "  <svg xmlns=\"http://www.w3.org/2000/svg\" height=\"24px\"viewBox=\"0 0 24 24\"\n",
              "       width=\"24px\">\n",
              "    <path d=\"M0 0h24v24H0V0z\" fill=\"none\"/>\n",
              "    <path d=\"M18.56 5.44l.94 2.06.94-2.06 2.06-.94-2.06-.94-.94-2.06-.94 2.06-2.06.94zm-11 1L8.5 8.5l.94-2.06 2.06-.94-2.06-.94L8.5 2.5l-.94 2.06-2.06.94zm10 10l.94 2.06.94-2.06 2.06-.94-2.06-.94-.94-2.06-.94 2.06-2.06.94z\"/><path d=\"M17.41 7.96l-1.37-1.37c-.4-.4-.92-.59-1.43-.59-.52 0-1.04.2-1.43.59L10.3 9.45l-7.72 7.72c-.78.78-.78 2.05 0 2.83L4 21.41c.39.39.9.59 1.41.59.51 0 1.02-.2 1.41-.59l7.78-7.78 2.81-2.81c.8-.78.8-2.07 0-2.86zM5.41 20L4 18.59l7.72-7.72 1.47 1.35L5.41 20z\"/>\n",
              "  </svg>\n",
              "      </button>\n",
              "      \n",
              "  <style>\n",
              "    .colab-df-container {\n",
              "      display:flex;\n",
              "      flex-wrap:wrap;\n",
              "      gap: 12px;\n",
              "    }\n",
              "\n",
              "    .colab-df-convert {\n",
              "      background-color: #E8F0FE;\n",
              "      border: none;\n",
              "      border-radius: 50%;\n",
              "      cursor: pointer;\n",
              "      display: none;\n",
              "      fill: #1967D2;\n",
              "      height: 32px;\n",
              "      padding: 0 0 0 0;\n",
              "      width: 32px;\n",
              "    }\n",
              "\n",
              "    .colab-df-convert:hover {\n",
              "      background-color: #E2EBFA;\n",
              "      box-shadow: 0px 1px 2px rgba(60, 64, 67, 0.3), 0px 1px 3px 1px rgba(60, 64, 67, 0.15);\n",
              "      fill: #174EA6;\n",
              "    }\n",
              "\n",
              "    [theme=dark] .colab-df-convert {\n",
              "      background-color: #3B4455;\n",
              "      fill: #D2E3FC;\n",
              "    }\n",
              "\n",
              "    [theme=dark] .colab-df-convert:hover {\n",
              "      background-color: #434B5C;\n",
              "      box-shadow: 0px 1px 3px 1px rgba(0, 0, 0, 0.15);\n",
              "      filter: drop-shadow(0px 1px 2px rgba(0, 0, 0, 0.3));\n",
              "      fill: #FFFFFF;\n",
              "    }\n",
              "  </style>\n",
              "\n",
              "      <script>\n",
              "        const buttonEl =\n",
              "          document.querySelector('#df-88bd2344-4138-4942-aeed-e0d2a4aab22f button.colab-df-convert');\n",
              "        buttonEl.style.display =\n",
              "          google.colab.kernel.accessAllowed ? 'block' : 'none';\n",
              "\n",
              "        async function convertToInteractive(key) {\n",
              "          const element = document.querySelector('#df-88bd2344-4138-4942-aeed-e0d2a4aab22f');\n",
              "          const dataTable =\n",
              "            await google.colab.kernel.invokeFunction('convertToInteractive',\n",
              "                                                     [key], {});\n",
              "          if (!dataTable) return;\n",
              "\n",
              "          const docLinkHtml = 'Like what you see? Visit the ' +\n",
              "            '<a target=\"_blank\" href=https://colab.research.google.com/notebooks/data_table.ipynb>data table notebook</a>'\n",
              "            + ' to learn more about interactive tables.';\n",
              "          element.innerHTML = '';\n",
              "          dataTable['output_type'] = 'display_data';\n",
              "          await google.colab.output.renderOutput(dataTable, element);\n",
              "          const docLink = document.createElement('div');\n",
              "          docLink.innerHTML = docLinkHtml;\n",
              "          element.appendChild(docLink);\n",
              "        }\n",
              "      </script>\n",
              "    </div>\n",
              "  </div>\n",
              "  "
            ]
          },
          "metadata": {},
          "execution_count": 9
        }
      ]
    },
    {
      "cell_type": "code",
      "source": [
        "df.to_csv(\"naver_review.csv\")"
      ],
      "metadata": {
        "id": "k8f8B7dvlS1F"
      },
      "execution_count": 10,
      "outputs": []
    },
    {
      "cell_type": "markdown",
      "source": [
        "#part2"
      ],
      "metadata": {
        "id": "qhTItJbzm6R1"
      }
    },
    {
      "cell_type": "code",
      "source": [
        "!sudo apt-get install -y fonts-nanum\n",
        "!sudo fc-cache -fv\n",
        "!rm ~/.cache/matplotlib -rf"
      ],
      "metadata": {
        "colab": {
          "base_uri": "https://localhost:8080/"
        },
        "id": "Ebo1jWxam8mv",
        "outputId": "46673d5e-7800-4534-f3e4-8f080a10ef96"
      },
      "execution_count": 11,
      "outputs": [
        {
          "output_type": "stream",
          "name": "stdout",
          "text": [
            "Reading package lists... Done\n",
            "Building dependency tree       \n",
            "Reading state information... Done\n",
            "fonts-nanum is already the newest version (20180306-3).\n",
            "The following package was automatically installed and is no longer required:\n",
            "  libnvidia-common-510\n",
            "Use 'sudo apt autoremove' to remove it.\n",
            "0 upgraded, 0 newly installed, 0 to remove and 27 not upgraded.\n",
            "/usr/share/fonts: caching, new cache contents: 0 fonts, 1 dirs\n",
            "/usr/share/fonts/truetype: caching, new cache contents: 0 fonts, 3 dirs\n",
            "/usr/share/fonts/truetype/humor-sans: caching, new cache contents: 1 fonts, 0 dirs\n",
            "/usr/share/fonts/truetype/liberation: caching, new cache contents: 16 fonts, 0 dirs\n",
            "/usr/share/fonts/truetype/nanum: caching, new cache contents: 10 fonts, 0 dirs\n",
            "/usr/local/share/fonts: caching, new cache contents: 0 fonts, 0 dirs\n",
            "/root/.local/share/fonts: skipping, no such directory\n",
            "/root/.fonts: skipping, no such directory\n",
            "/usr/share/fonts/truetype: skipping, looped directory detected\n",
            "/usr/share/fonts/truetype/humor-sans: skipping, looped directory detected\n",
            "/usr/share/fonts/truetype/liberation: skipping, looped directory detected\n",
            "/usr/share/fonts/truetype/nanum: skipping, looped directory detected\n",
            "/var/cache/fontconfig: cleaning cache directory\n",
            "/root/.cache/fontconfig: not cleaning non-existent cache directory\n",
            "/root/.fontconfig: not cleaning non-existent cache directory\n",
            "fc-cache: succeeded\n"
          ]
        }
      ]
    },
    {
      "cell_type": "code",
      "source": [
        "import pandas as pd\n",
        "import numpy as np\n",
        "\n",
        "import os, re\n",
        "from tqdm import tqdm\n",
        "\n",
        "# 경고문구 미표시\n",
        "import warnings\n",
        "warnings.filterwarnings('ignore')\n",
        "\n",
        "# 한글 폰트 지정\n",
        "import matplotlib.pyplot as plt\n",
        "plt.rc('font', family='NanumBarunGothic')"
      ],
      "metadata": {
        "id": "IizuxKWlnPze"
      },
      "execution_count": 12,
      "outputs": []
    },
    {
      "cell_type": "code",
      "source": [
        "# 다운로드 받을 폴더를 준비\n",
        "DATA_DIR = \"./data\"\n",
        "os.makedirs(DATA_DIR, exist_ok=True)"
      ],
      "metadata": {
        "id": "73phBOVJnu0X"
      },
      "execution_count": 13,
      "outputs": []
    },
    {
      "cell_type": "code",
      "source": [
        "# (로컬에서 실습할 경우) 파이토치 설치: conda install pytorch==1.12.0 -c pytorch \n",
        "# (로컬에서 실습할 경우) torchtext 설치: conda install -c pytorch torchtext \n",
        "\n",
        "# 데이터 다운로드 \n",
        "import torchtext \n",
        "torchtext.utils.download_from_url(url='https://raw.githubusercontent.com/e9t/nsmc/master/ratings_train.txt', path=os.path.join(DATA_DIR, 'review.txt'))"
      ],
      "metadata": {
        "colab": {
          "base_uri": "https://localhost:8080/",
          "height": 35
        },
        "id": "zYjMxtjbnv_Y",
        "outputId": "f8fa6058-3ae3-4757-cf96-d2314ceea43f"
      },
      "execution_count": 14,
      "outputs": [
        {
          "output_type": "execute_result",
          "data": {
            "text/plain": [
              "'/content/data/review.txt'"
            ],
            "application/vnd.google.colaboratory.intrinsic+json": {
              "type": "string"
            }
          },
          "metadata": {},
          "execution_count": 14
        }
      ]
    },
    {
      "cell_type": "code",
      "source": [
        "# txt 파일을 판다스 데이터프레임으로 읽어오기\n",
        "data = pd.read_csv(os.path.join(DATA_DIR, 'review.txt'), sep='\\t')\n",
        "\n",
        "# 데이터프레임의 크기\n",
        "print(data.shape)\n",
        "\n",
        "# 첫 5행을 출력\n",
        "data.head()"
      ],
      "metadata": {
        "colab": {
          "base_uri": "https://localhost:8080/",
          "height": 224
        },
        "id": "l8D7u1VTn2vv",
        "outputId": "85c72c87-9702-4102-af03-f6f8ea5d8bcb"
      },
      "execution_count": 15,
      "outputs": [
        {
          "output_type": "stream",
          "name": "stdout",
          "text": [
            "(150000, 3)\n"
          ]
        },
        {
          "output_type": "execute_result",
          "data": {
            "text/plain": [
              "         id                                           document  label\n",
              "0   9976970                                아 더빙.. 진짜 짜증나네요 목소리      0\n",
              "1   3819312                  흠...포스터보고 초딩영화줄....오버연기조차 가볍지 않구나      1\n",
              "2  10265843                                  너무재밓었다그래서보는것을추천한다      0\n",
              "3   9045019                      교도소 이야기구먼 ..솔직히 재미는 없다..평점 조정      0\n",
              "4   6483659  사이몬페그의 익살스런 연기가 돋보였던 영화!스파이더맨에서 늙어보이기만 했던 커스틴 ...      1"
            ],
            "text/html": [
              "\n",
              "  <div id=\"df-0d6856ad-2192-495d-b8fb-4621b637e1b6\">\n",
              "    <div class=\"colab-df-container\">\n",
              "      <div>\n",
              "<style scoped>\n",
              "    .dataframe tbody tr th:only-of-type {\n",
              "        vertical-align: middle;\n",
              "    }\n",
              "\n",
              "    .dataframe tbody tr th {\n",
              "        vertical-align: top;\n",
              "    }\n",
              "\n",
              "    .dataframe thead th {\n",
              "        text-align: right;\n",
              "    }\n",
              "</style>\n",
              "<table border=\"1\" class=\"dataframe\">\n",
              "  <thead>\n",
              "    <tr style=\"text-align: right;\">\n",
              "      <th></th>\n",
              "      <th>id</th>\n",
              "      <th>document</th>\n",
              "      <th>label</th>\n",
              "    </tr>\n",
              "  </thead>\n",
              "  <tbody>\n",
              "    <tr>\n",
              "      <th>0</th>\n",
              "      <td>9976970</td>\n",
              "      <td>아 더빙.. 진짜 짜증나네요 목소리</td>\n",
              "      <td>0</td>\n",
              "    </tr>\n",
              "    <tr>\n",
              "      <th>1</th>\n",
              "      <td>3819312</td>\n",
              "      <td>흠...포스터보고 초딩영화줄....오버연기조차 가볍지 않구나</td>\n",
              "      <td>1</td>\n",
              "    </tr>\n",
              "    <tr>\n",
              "      <th>2</th>\n",
              "      <td>10265843</td>\n",
              "      <td>너무재밓었다그래서보는것을추천한다</td>\n",
              "      <td>0</td>\n",
              "    </tr>\n",
              "    <tr>\n",
              "      <th>3</th>\n",
              "      <td>9045019</td>\n",
              "      <td>교도소 이야기구먼 ..솔직히 재미는 없다..평점 조정</td>\n",
              "      <td>0</td>\n",
              "    </tr>\n",
              "    <tr>\n",
              "      <th>4</th>\n",
              "      <td>6483659</td>\n",
              "      <td>사이몬페그의 익살스런 연기가 돋보였던 영화!스파이더맨에서 늙어보이기만 했던 커스틴 ...</td>\n",
              "      <td>1</td>\n",
              "    </tr>\n",
              "  </tbody>\n",
              "</table>\n",
              "</div>\n",
              "      <button class=\"colab-df-convert\" onclick=\"convertToInteractive('df-0d6856ad-2192-495d-b8fb-4621b637e1b6')\"\n",
              "              title=\"Convert this dataframe to an interactive table.\"\n",
              "              style=\"display:none;\">\n",
              "        \n",
              "  <svg xmlns=\"http://www.w3.org/2000/svg\" height=\"24px\"viewBox=\"0 0 24 24\"\n",
              "       width=\"24px\">\n",
              "    <path d=\"M0 0h24v24H0V0z\" fill=\"none\"/>\n",
              "    <path d=\"M18.56 5.44l.94 2.06.94-2.06 2.06-.94-2.06-.94-.94-2.06-.94 2.06-2.06.94zm-11 1L8.5 8.5l.94-2.06 2.06-.94-2.06-.94L8.5 2.5l-.94 2.06-2.06.94zm10 10l.94 2.06.94-2.06 2.06-.94-2.06-.94-.94-2.06-.94 2.06-2.06.94z\"/><path d=\"M17.41 7.96l-1.37-1.37c-.4-.4-.92-.59-1.43-.59-.52 0-1.04.2-1.43.59L10.3 9.45l-7.72 7.72c-.78.78-.78 2.05 0 2.83L4 21.41c.39.39.9.59 1.41.59.51 0 1.02-.2 1.41-.59l7.78-7.78 2.81-2.81c.8-.78.8-2.07 0-2.86zM5.41 20L4 18.59l7.72-7.72 1.47 1.35L5.41 20z\"/>\n",
              "  </svg>\n",
              "      </button>\n",
              "      \n",
              "  <style>\n",
              "    .colab-df-container {\n",
              "      display:flex;\n",
              "      flex-wrap:wrap;\n",
              "      gap: 12px;\n",
              "    }\n",
              "\n",
              "    .colab-df-convert {\n",
              "      background-color: #E8F0FE;\n",
              "      border: none;\n",
              "      border-radius: 50%;\n",
              "      cursor: pointer;\n",
              "      display: none;\n",
              "      fill: #1967D2;\n",
              "      height: 32px;\n",
              "      padding: 0 0 0 0;\n",
              "      width: 32px;\n",
              "    }\n",
              "\n",
              "    .colab-df-convert:hover {\n",
              "      background-color: #E2EBFA;\n",
              "      box-shadow: 0px 1px 2px rgba(60, 64, 67, 0.3), 0px 1px 3px 1px rgba(60, 64, 67, 0.15);\n",
              "      fill: #174EA6;\n",
              "    }\n",
              "\n",
              "    [theme=dark] .colab-df-convert {\n",
              "      background-color: #3B4455;\n",
              "      fill: #D2E3FC;\n",
              "    }\n",
              "\n",
              "    [theme=dark] .colab-df-convert:hover {\n",
              "      background-color: #434B5C;\n",
              "      box-shadow: 0px 1px 3px 1px rgba(0, 0, 0, 0.15);\n",
              "      filter: drop-shadow(0px 1px 2px rgba(0, 0, 0, 0.3));\n",
              "      fill: #FFFFFF;\n",
              "    }\n",
              "  </style>\n",
              "\n",
              "      <script>\n",
              "        const buttonEl =\n",
              "          document.querySelector('#df-0d6856ad-2192-495d-b8fb-4621b637e1b6 button.colab-df-convert');\n",
              "        buttonEl.style.display =\n",
              "          google.colab.kernel.accessAllowed ? 'block' : 'none';\n",
              "\n",
              "        async function convertToInteractive(key) {\n",
              "          const element = document.querySelector('#df-0d6856ad-2192-495d-b8fb-4621b637e1b6');\n",
              "          const dataTable =\n",
              "            await google.colab.kernel.invokeFunction('convertToInteractive',\n",
              "                                                     [key], {});\n",
              "          if (!dataTable) return;\n",
              "\n",
              "          const docLinkHtml = 'Like what you see? Visit the ' +\n",
              "            '<a target=\"_blank\" href=https://colab.research.google.com/notebooks/data_table.ipynb>data table notebook</a>'\n",
              "            + ' to learn more about interactive tables.';\n",
              "          element.innerHTML = '';\n",
              "          dataTable['output_type'] = 'display_data';\n",
              "          await google.colab.output.renderOutput(dataTable, element);\n",
              "          const docLink = document.createElement('div');\n",
              "          docLink.innerHTML = docLinkHtml;\n",
              "          element.appendChild(docLink);\n",
              "        }\n",
              "      </script>\n",
              "    </div>\n",
              "  </div>\n",
              "  "
            ]
          },
          "metadata": {},
          "execution_count": 15
        }
      ]
    },
    {
      "cell_type": "code",
      "source": [
        "! pip install konlpy"
      ],
      "metadata": {
        "colab": {
          "base_uri": "https://localhost:8080/"
        },
        "id": "zDsrU9rEqXCi",
        "outputId": "ebbe298f-13ff-48a4-d971-fb39be807f6e"
      },
      "execution_count": 16,
      "outputs": [
        {
          "output_type": "stream",
          "name": "stdout",
          "text": [
            "Looking in indexes: https://pypi.org/simple, https://us-python.pkg.dev/colab-wheels/public/simple/\n",
            "Requirement already satisfied: konlpy in /usr/local/lib/python3.8/dist-packages (0.6.0)\n",
            "Requirement already satisfied: lxml>=4.1.0 in /usr/local/lib/python3.8/dist-packages (from konlpy) (4.9.2)\n",
            "Requirement already satisfied: numpy>=1.6 in /usr/local/lib/python3.8/dist-packages (from konlpy) (1.21.6)\n",
            "Requirement already satisfied: JPype1>=0.7.0 in /usr/local/lib/python3.8/dist-packages (from konlpy) (1.4.1)\n",
            "Requirement already satisfied: packaging in /usr/local/lib/python3.8/dist-packages (from JPype1>=0.7.0->konlpy) (23.0)\n"
          ]
        }
      ]
    },
    {
      "cell_type": "code",
      "source": [
        "# 트위터 형태소 분석기(Okt)를 활용\n",
        "from konlpy.utils import pprint\n",
        "from konlpy.tag import Okt\n",
        "okt = Okt()\n",
        "print(okt)"
      ],
      "metadata": {
        "colab": {
          "base_uri": "https://localhost:8080/"
        },
        "id": "R2vx6prXqrdl",
        "outputId": "af7f9dac-4dac-4de7-c62f-46ba52ad9a83"
      },
      "execution_count": 17,
      "outputs": [
        {
          "output_type": "stream",
          "name": "stdout",
          "text": [
            "<konlpy.tag._okt.Okt object at 0x7f3c4d869af0>\n"
          ]
        }
      ]
    },
    {
      "cell_type": "code",
      "source": [
        "review_data = data['document'].dropna().values\n",
        "review_data = review_data[:1000]"
      ],
      "metadata": {
        "id": "e2Zq4QNmqe7q"
      },
      "execution_count": 18,
      "outputs": []
    },
    {
      "cell_type": "code",
      "source": [
        "# 세 글자 이상의 명사를 사용 (두 글자 이하의 단어는 제거)\n",
        "cleaned_review_data = []\n",
        "\n",
        "for review in tqdm(review_data):\n",
        "    tokens = okt.nouns(review)\n",
        "    cleaned_tokens = []\n",
        "    for word in tokens:\n",
        "        if len(word) > 2:\n",
        "            cleaned_tokens.append(word)\n",
        "        else:\n",
        "            pass\n",
        "    cleaned_review = \" \".join(cleaned_tokens)\n",
        "    cleaned_review_data.append(cleaned_review)\n",
        "\n"
      ],
      "metadata": {
        "colab": {
          "base_uri": "https://localhost:8080/"
        },
        "id": "Ucs_lHSUqmJe",
        "outputId": "2fb19afc-0ef9-4fb3-f2cb-8b29ac7e7334"
      },
      "execution_count": 19,
      "outputs": [
        {
          "output_type": "stream",
          "name": "stderr",
          "text": [
            "100%|██████████| 1000/1000 [00:26<00:00, 37.47it/s]\n"
          ]
        }
      ]
    },
    {
      "cell_type": "code",
      "source": [
        "# 트위터 형태소 분석기(Okt)를 활용\n",
        "from konlpy.utils import pprint\n",
        "from konlpy.tag import Okt\n",
        "okt = Okt()\n",
        "print(okt)"
      ],
      "metadata": {
        "colab": {
          "base_uri": "https://localhost:8080/"
        },
        "id": "C5ZIV59hrDz5",
        "outputId": "c51b0132-0e35-42dc-9e24-490365893026"
      },
      "execution_count": 20,
      "outputs": [
        {
          "output_type": "stream",
          "name": "stdout",
          "text": [
            "<konlpy.tag._okt.Okt object at 0x7f3c2d651be0>\n"
          ]
        }
      ]
    },
    {
      "cell_type": "code",
      "source": [
        "# 사이킷런 패키지 활용 \n",
        "from sklearn.feature_extraction.text import TfidfVectorizer\n",
        "\n",
        "# TF-IDF 변환기 객체를 생성\n",
        "tfid = TfidfVectorizer()\n",
        "\n",
        "# TF-IDF 변환기에 데이터를 입력하여 변환\n",
        "review_tfid = tfid.fit_transform(cleaned_review_data)\n"
      ],
      "metadata": {
        "id": "BPrCOLl4rD81"
      },
      "execution_count": 21,
      "outputs": []
    },
    {
      "cell_type": "code",
      "source": [
        "vocab = tfid.vocabulary_\n",
        "index_to_word = { v:k for k, v in vocab.items() }\n",
        "print(vocab)"
      ],
      "metadata": {
        "colab": {
          "base_uri": "https://localhost:8080/"
        },
        "id": "S038fcCltiC2",
        "outputId": "b9d388f8-3626-48a1-b32d-9f56d18c0b1d"
      },
      "execution_count": 22,
      "outputs": [
        {
          "output_type": "stream",
          "name": "stdout",
          "text": [
            "{'목소리': 152, '포스터': 546, '교도소': 31, '이야기': 400, '스파이더맨': 260, '커스틴': 505, '던스트': 94, '초등학교': 490, '긴장감': 53, '제대로': 455, '이응경': 403, '길용우': 54, '드라마': 105, '헐리우드': 578, '인피니트': 417, '허진호': 577, '횡단보도': 591, '이범수': 394, '스토리': 258, '어거지': 313, '재밋음': 431, '바스코': 175, '아이돌': 291, '굿바이': 37, '갈수록': 5, '캐스팅': 504, '용구성': 371, '버무러진': 187, '바베트': 174, '핀란드': 559, '짤랐을꺼': 477, '카밀라': 500, '발연기': 182, '재밋는뎅': 427, '엄포스': 327, '쓰레기': 284, '키이라': 517, '나이틀리': 72, '정신장애': 446, '틱장애': 530, '알바생': 305, '윤제문': 388, '리얼리티': 124, '이민기': 392, '캐릭터': 503, '정신의학': 445, '분노조절': 199, '툭하면': 526, '마이너스': 130, '근친상간': 47, '드래곤': 106, '세르게이': 240, '일본인': 419, '상상력': 229, '백봉기': 186, '그대로': 41, '카리스마': 497, '전개도': 437, '주인공': 465, '가슴속': 2, '우리나라': 374, '민간인': 171, '살인자': 224, '에피소드': 332, '시청률': 269, '김남길': 55, '연기력': 342, '몰입도': 155, '손예진': 245, '노래실력': 78, '박시환': 178, '아무나': 288, '재밋네': 426, '달팽이': 90, '로마노프': 116, '러시아': 112, '한국영': 567, '아햏햏': 300, '리플릿': 125, '우뢰매': 373, '막문위': 137, '걸스데이': 14, '이혜리': 413, '어내스트': 315, '셀레스틴': 243, '클라라': 515, '신카이': 273, '마코토': 136, '고은님': 24, '킬링타임': 518, '크리스마스': 513, '로맨스': 117, '별루더': 191, '몬스터': 154, '주식회사': 463, '중국인': 470, '안간힘': 301, '도대체': 99, '스스로': 255, '불법체류자': 201, '우상화': 375, '연기자': 343, '라미란': 107, '뫼비우스': 156, '케이블': 507, '다르덴': 83, '차이밍량': 483, '엠비씨': 334, '한석규': 569, '김혜수': 66, '에볼라': 329, '바이러스': 176, '마지막': 133, '용가리': 370, '짱짱맨': 478, '하나로': 562, '재방송': 433, '퀄리티': 510, '노출씬': 79, '바랬다': 173, '스러웟음': 252, '찍을껀데': 479, '어린이': 319, '총을드': 491, '크리스토퍼': 514, '타란티노': 519, '수백향': 249, '화이팅': 590, '위원회': 382, '김혜선': 64, '팜므파탈': 534, '코미디': 509, '한마디': 568, '껄끄런': 67, '로큰롤': 122, '뮤지컬': 162, '사운드': 218, '뮤지컬영화': 163, '맘마미아': 140, '로맨틱코미디': 119, '게이물': 15, '알고싶다': 302, '꼭두각시': 68, '현대인': 583, '언밸러스': 325, '시종일관': 268, '클래식': 516, '주기도': 461, '얼마나': 326, '판타지': 532, '윤종신': 389, '이하늘': 409, '참가자': 484, '어린시절': 318, '판타지영화': 533, '멜로영화': 147, '사랑비': 216, '이영화': 402, '싸이코': 283, '시리즈': 265, '최고봉': 493, '사다코': 214, '강수연': 10, '최정원': 495, '김혜성': 65, '이현진': 412, '이인상': 405, '재밋어': 430, '배두나': 184, '호기심': 585, '닥치고': 87, '미국드라마': 164, '은지원': 390, '네이버': 77, '오우삼': 364, '영웅본색': 348, '학창시절': 566, '배경음악': 183, '영양가': 347, '이승기': 398, '현충일': 584, '짜임새': 476, '신현준': 275, '서스펜스': 233, '버킷리스트': 188, '홍혜정': 588, '월요일': 380, '정치인': 454, '정치범': 453, '극장판': 46, '개그콘서트': 12, '싸움판': 282, '푸하하하': 549, '애니매이션': 308, '감옥살이': 8, '흑인음악': 594, '아이스': 294, '알리시아': 304, '옥소리': 366, '프로필': 554, '재밓당': 432, '액션영화': 311, '느와르': 81, '피해자': 558, '구리지': 32, '매니저': 142, '스릴러': 253, '할머니': 573, '천카이거': 488, '정은지': 450, '트로트': 528, '여자애': 340, '연속극': 344, '인터뷰': 416, '오피스': 365, '물폭탄': 161, '명대사': 148, '뒷받침': 104, '여배우': 338, '저스트': 435, '애니스톤': 310, '시베리아': 267, '누군가': 80, '지루함': 472, '송강호': 246, '즐거움': 471, '비디오': 205, '테이프': 523, '새롭웠': 230, '라파스': 109, '신봉선': 272, '연예인': 346, '시나리오': 264, '마스코트': 129, '사토시': 222, '츠무구': 496, '영화로': 353, '박정아': 181, '군더더기': 35, '봣는데': 194, '빠순이': 210, '재밋쎠': 429, '애니메이션': 309, '줄리아': 468, '로버츠': 120, '예술가': 361, '관객수': 29, '류승완': 123, '평화로': 544, '헐리웃': 579, '하나님': 560, '흥미진진': 595, '지존파': 474, '정당화': 443, '랜슬롯': 111, '트리스탄': 529, '란슬롯': 110, '대한민국': 93, '종착역': 460, '트레비스': 527, '네러티브': 76, '동영상': 101, '성범죄자': 237, '제작비': 456, '패자부활전': 537, '메세지': 145, '최고다': 492, '그랜드': 43, '부다페스트': 196, '영화사': 354, '아이언맨': 295, '히어로': 596, '살인마': 223, '조달환': 458, '정유미': 449, '앤드류': 312, '레전드': 114, '사촌형': 221, '심은하': 277, '주제가': 466, '잔인함': 423, '페이스': 541, '미국인': 165, '아메리칸': 287, '원주민': 379, '아카데미상': 299, '어딘가': 316, '일어나고': 420, '림프비즈킷': 126, '견자단': 16, '그래픽': 42, '평론가': 543, '영화평론가': 358, '이탈리아': 408, '이이경': 404, '가나다라': 1, '갈팡질팡': 6, '공효진': 28, '권상우': 39, '화산고': 589, '유대인': 383, '토마스': 524, '유태인': 385, '가족사진': 3, '상대성': 227, '이중인격': 406, '센세이션': 242, '차이나타운': 482, '영화관': 351, '이민정': 393, '신하균': 274, '빨갱이': 211, '갑자기': 9, '선생님': 235, '그리움': 45, '남자배우': 74, '미스캐스팅': 168, '조은숙': 459, '김유미': 61, '세계대전': 239, '한예슬': 571, '김태희': 63, '이연서': 401, '피의자': 557, '스피디': 262, '시가전': 263, '탕웨이': 522, '아수라': 290, '공통점': 25, '스포츠영화': 261, '로버트': 121, '스릴러물': 254, '도가니탕': 98, '압삘럽': 307, '김영애': 60, '싸구려': 280, '감수성': 7, '생동감': 231, '박물관': 177, '인종차별': 415, '불협화음': 202, '고명환': 20, '폭풍눈물': 547, '팝핀현준': 535, '할아버지': 574, '함부로': 575, '글쎄요': 48, '기독교': 51, '스킨헤드': 256, '자동차': 421, '매니아': 141, '아저씨': 297, '엑소시스트': 333, '공포물': 26, '귀요미': 40, '저예산영화': 436, '영화계': 350, '다크호스': 86, '블랙코미디': 203, '만들기': 138, '심형래': 278, '민국이': 172, '이해도': 411, '박얘쁜': 180, '빠수니': 209, '보이지': 192, '코끼리': 508, '패러디': 536, '카메오': 499, '나와라': 71, '성인영화': 238, '가족영화': 4, '제작자': 457, '장윤현': 425, '정정은': 452, '어케된거': 324, '이해관계': 410, '스토리텔링': 259, '영홥니': 359, '알럽키': 303, '중고생': 469, '포르노': 545, '이승연': 399, '홍경인': 587, '뿜었다': 213, '계몽영화': 18, '마침표': 135, '세얼간이': 241, '아줌마': 298, '심혜진': 279, '메시지': 146, '아이템': 296, '부자간': 197, '낰였다': 75, '프리미엄': 555, '이선균': 396, '정재영': 451, '김상중': 58, '오락가락': 363, '영화제': 357, '퍼스트': 538, '머릿속': 143, '지우개': 473, '오늘이': 362, '월요커플': 381, '최루성': 494, '건너편': 13, '외계인': 369, '수도승': 248, '물대포': 160, '웃겻다': 377, '영화상': 355, '부족함': 198, '고스트라이더': 22, '싸대기': 281, '마찬가지': 134, '찍지마라': 480, '카메라': 498, '두고두고': 102, '아닐런지': 285, '아이디어': 292, '미스터리': 169, '에로스': 328, '윤계상': 387, '프레스토': 552, '효과음': 592, '이상은': 395, '강혜정': 11, '타이틀': 520, '달고나': 88, '퀵이유': 511, '두번째': 103, '삼십분': 226, '영화인': 356, '왕조현': 368, '주윤발': 464, '원숭이': 378, '사무라이': 217, '모니터링': 149, '소비자': 244, '차라리': 481, '박신혜': 179, '국민학교': 33, '마구잡이': 127, '비행기': 207, '헛웃음': 580, '금단비': 49, '절대로': 442, '어머니': 320, '고릴라': 19, '공포영화': 27, '하트넷': 564, '이미지': 391, '여러가지': 336, '사이코': 219, '어캐봐': 323, '분위기': 200, '이성재': 397, '어게인': 314, '카이사르': 501, '김민종': 57, '여성성': 339, '일기토': 418, '삼국지': 225, '비디오테잎': 206, '베트공': 190, '스나이퍼': 251, '라이언': 108, '자위대': 422, '그랜트': 44, '한자리': 572, '아이리스': 293, '정우성': 448, '고소영': 21, '전라도': 438, '끼리끼리': 69, '크리스': 512, '덴젤와싱턴': 97, '모레쯔': 150, '배틀로얄': 185, '상류층': 228, '국회의원': 34, '정상인': 444, '샬라샬': 232, '청소년': 489, '어르신': 317, '대부분': 91, '복수심': 193, '빨치산': 212, '헤어스타일': 581, '김명민': 56, '다니엘헤니': 82, '설경구': 236, '프레디': 551, '모욕감': 151, '목적지': 153, '데몰리션맨': 95, '이퀄리브리엄': 407, '파란색': 531, '유오성': 384, '베스트': 189, '페이크': 542, '독립영화': 100, '시미즈': 266, '만화책': 139, '예고편': 360, '하하호호': 565, '시청자': 270, '낚시질': 73, '프랑스': 550, '사촌동생': 220, '페미니즘': 540, '페미나치': 539, '마인드': 132, '장애인': 424, '어처구니': 322, '슈퍼마켓': 250, '한송이': 570, '하나라': 561, '결혼반지': 17, '문성우': 159, '재밋습': 428, '로맨스영화': 118, '천녀유혼': 487, '무언가': 158, '봣습니닼': 195, '잼잇엇숩니': 434, '마라천': 128, '영화감독': 349, '사도세자': 215, '아버지': 289, '해리슨': 576, '영화광': 352, '서인영': 234, '쇼핑몰': 247, '여러분': 337, '익스트림': 414, '컴퓨터': 506, '옴니버스': 367, '여호와': 341, '탁재훈': 521, '나루토': 70, '여기저기': 335, '카타르': 502, '전화통화': 441, '가까이': 0, '폰부스': 548, '현기증': 582, '식인종': 271, '어쩌잔거': 321, '연예계': 345, '유투브': 386, '지하철': 475, '기관사': 50, '스타워즈': 257, '다스베이더': 85, '레이어': 113, '주성치': 462, '교과서': 30, '플레이': 556, '후속작': 593, '호들갑': 586, '참으로': 485, '전쟁씬': 439, '김윤진': 62, '무리수': 157, '아마겟돈': 286, '하셧을까': 563, '김소현': 59, '굿굿굿': 36, '미성년': 167, '빈센트': 208, '다세포': 84, '통틀어': 525, '전지현': 440, '달기지': 89, '미니어쳐': 166, '우뢔매': 372, '정여립': 447, '기축옥사': 52, '실험영화': 276, '처먹어랔': 486, '에일리언': 331, '고양이': 23, '대학교': 92, '에이즈': 330, '운동화': 376, '프렌드': 553, '데이먼': 96, '굿윌헌팅도쩐당': 38, '로그인': 115, '줄거리': 467, '미장센': 170, '마이클': 131, '블록버스터': 204, '메간폭스': 144, '알콜중독자': 306}\n"
          ]
        }
      ]
    },
    {
      "cell_type": "code",
      "source": [
        "# 사이킷런 패키지 활용\n",
        "from sklearn.decomposition import LatentDirichletAllocation\n",
        "\n",
        "# LDA 모델링 객체를 생성 (토픽 갯수를 2로 설정: 긍정/부정)\n",
        "lda = LatentDirichletAllocation(n_components=2)  \n",
        "\n",
        "# TF-IDF 벡터를 입력하여 모델 학습 \n",
        "lda.fit(review_tfid)"
      ],
      "metadata": {
        "colab": {
          "base_uri": "https://localhost:8080/"
        },
        "id": "xA1ZUGYEuiMf",
        "outputId": "bedd37b1-5931-4c64-cb06-1638a51ae617"
      },
      "execution_count": 23,
      "outputs": [
        {
          "output_type": "execute_result",
          "data": {
            "text/plain": [
              "LatentDirichletAllocation(n_components=2)"
            ]
          },
          "metadata": {},
          "execution_count": 23
        }
      ]
    },
    {
      "cell_type": "code",
      "source": [
        "for idx, topic in enumerate(lda.components_):\n",
        "    print(f\"토픽 유형 {idx+1}:\", [(index_to_word[i], topic[i].round(3)) for i in topic.argsort()[:-11:-1]])"
      ],
      "metadata": {
        "colab": {
          "base_uri": "https://localhost:8080/"
        },
        "id": "hKRJAOmtuk0r",
        "outputId": "bd62d218-8aae-441f-b562-8f6f1c9c31c9"
      },
      "execution_count": 24,
      "outputs": [
        {
          "output_type": "stream",
          "name": "stdout",
          "text": [
            "토픽 유형 1: [('스토리', 18.213), ('주인공', 13.775), ('이야기', 10.99), ('마지막', 9.603), ('포스터', 6.362), ('캐스팅', 6.063), ('시리즈', 4.914), ('이영화', 4.331), ('어린이', 4.273), ('시나리오', 3.972)]\n",
            "토픽 유형 2: [('드라마', 19.509), ('쓰레기', 15.738), ('스릴러', 5.205), ('시청률', 4.986), ('비디오', 4.616), ('긴장감', 4.526), ('공포영화', 4.467), ('로맨스', 4.403), ('코미디', 4.126), ('연기력', 3.975)]\n"
          ]
        }
      ]
    },
    {
      "cell_type": "code",
      "source": [
        "# pyLDAvis 설치\n",
        "!pip install pyLDAvis"
      ],
      "metadata": {
        "colab": {
          "base_uri": "https://localhost:8080/"
        },
        "id": "lFltYTLcu82V",
        "outputId": "d90f08b1-cb17-4b1a-97a7-55e91e046613"
      },
      "execution_count": 25,
      "outputs": [
        {
          "output_type": "stream",
          "name": "stdout",
          "text": [
            "Looking in indexes: https://pypi.org/simple, https://us-python.pkg.dev/colab-wheels/public/simple/\n",
            "Requirement already satisfied: pyLDAvis in /usr/local/lib/python3.8/dist-packages (3.3.1)\n",
            "Requirement already satisfied: setuptools in /usr/local/lib/python3.8/dist-packages (from pyLDAvis) (57.4.0)\n",
            "Requirement already satisfied: numexpr in /usr/local/lib/python3.8/dist-packages (from pyLDAvis) (2.8.4)\n",
            "Requirement already satisfied: future in /usr/local/lib/python3.8/dist-packages (from pyLDAvis) (0.16.0)\n",
            "Requirement already satisfied: jinja2 in /usr/local/lib/python3.8/dist-packages (from pyLDAvis) (2.11.3)\n",
            "Requirement already satisfied: scikit-learn in /usr/local/lib/python3.8/dist-packages (from pyLDAvis) (1.0.2)\n",
            "Requirement already satisfied: funcy in /usr/local/lib/python3.8/dist-packages (from pyLDAvis) (1.18)\n",
            "Requirement already satisfied: numpy>=1.20.0 in /usr/local/lib/python3.8/dist-packages (from pyLDAvis) (1.21.6)\n",
            "Requirement already satisfied: pandas>=1.2.0 in /usr/local/lib/python3.8/dist-packages (from pyLDAvis) (1.3.5)\n",
            "Requirement already satisfied: joblib in /usr/local/lib/python3.8/dist-packages (from pyLDAvis) (1.2.0)\n",
            "Requirement already satisfied: scipy in /usr/local/lib/python3.8/dist-packages (from pyLDAvis) (1.7.3)\n",
            "Requirement already satisfied: sklearn in /usr/local/lib/python3.8/dist-packages (from pyLDAvis) (0.0.post1)\n",
            "Requirement already satisfied: gensim in /usr/local/lib/python3.8/dist-packages (from pyLDAvis) (3.6.0)\n",
            "Requirement already satisfied: pytz>=2017.3 in /usr/local/lib/python3.8/dist-packages (from pandas>=1.2.0->pyLDAvis) (2022.7.1)\n",
            "Requirement already satisfied: python-dateutil>=2.7.3 in /usr/local/lib/python3.8/dist-packages (from pandas>=1.2.0->pyLDAvis) (2.8.2)\n",
            "Requirement already satisfied: smart-open>=1.2.1 in /usr/local/lib/python3.8/dist-packages (from gensim->pyLDAvis) (6.3.0)\n",
            "Requirement already satisfied: six>=1.5.0 in /usr/local/lib/python3.8/dist-packages (from gensim->pyLDAvis) (1.15.0)\n",
            "Requirement already satisfied: MarkupSafe>=0.23 in /usr/local/lib/python3.8/dist-packages (from jinja2->pyLDAvis) (2.0.1)\n",
            "Requirement already satisfied: threadpoolctl>=2.0.0 in /usr/local/lib/python3.8/dist-packages (from scikit-learn->pyLDAvis) (3.1.0)\n"
          ]
        }
      ]
    },
    {
      "cell_type": "code",
      "source": [
        "import pyLDAvis.sklearn\n",
        "pyLDAvis.enable_notebook()\n",
        "visualization = pyLDAvis.sklearn.prepare(lda, review_tfid, tfid)\n",
        "pyLDAvis.display(visualization)"
      ],
      "metadata": {
        "colab": {
          "base_uri": "https://localhost:8080/",
          "height": 917
        },
        "id": "ZPObbm0hu-WG",
        "outputId": "52f678cb-f82f-4e29-edd7-376b67ba6182"
      },
      "execution_count": 26,
      "outputs": [
        {
          "output_type": "stream",
          "name": "stderr",
          "text": [
            "/usr/local/lib/python3.8/dist-packages/past/types/oldstr.py:5: DeprecationWarning: Using or importing the ABCs from 'collections' instead of from 'collections.abc' is deprecated since Python 3.3, and in 3.10 it will stop working\n",
            "  from collections import Iterable\n"
          ]
        },
        {
          "output_type": "execute_result",
          "data": {
            "text/plain": [
              "<IPython.core.display.HTML object>"
            ],
            "text/html": [
              "\n",
              "<link rel=\"stylesheet\" type=\"text/css\" href=\"https://cdn.jsdelivr.net/gh/bmabey/pyLDAvis@3.3.1/pyLDAvis/js/ldavis.v1.0.0.css\">\n",
              "\n",
              "\n",
              "<div id=\"ldavis_el630821398962813659682131943878\"></div>\n",
              "<script type=\"text/javascript\">\n",
              "\n",
              "var ldavis_el630821398962813659682131943878_data = {\"mdsDat\": {\"x\": [0.07797920334353375, -0.07797920334353375], \"y\": [0.0, 0.0], \"topics\": [1, 2], \"cluster\": [1, 1], \"Freq\": [51.77117327330819, 48.22882672669181]}, \"tinfo\": {\"Term\": [\"\\ub4dc\\ub77c\\ub9c8\", \"\\uc2a4\\ud1a0\\ub9ac\", \"\\uc4f0\\ub808\\uae30\", \"\\uc8fc\\uc778\\uacf5\", \"\\uc774\\uc57c\\uae30\", \"\\ub9c8\\uc9c0\\ub9c9\", \"\\ud3ec\\uc2a4\\ud130\", \"\\uce90\\uc2a4\\ud305\", \"\\uc2a4\\ub9b4\\ub7ec\", \"\\uc2dc\\uccad\\ub960\", \"\\ube44\\ub514\\uc624\", \"\\uae34\\uc7a5\\uac10\", \"\\uacf5\\ud3ec\\uc601\\ud654\", \"\\ub85c\\ub9e8\\uc2a4\", \"\\uc2dc\\ub9ac\\uc988\", \"\\ucf54\\ubbf8\\ub514\", \"\\uadf8\\ub300\\ub85c\", \"\\uc774\\uc601\\ud654\", \"\\uc5b4\\ub9b0\\uc774\", \"\\ud654\\uc774\\ud305\", \"\\uc2dc\\ub098\\ub9ac\\uc624\", \"\\ud55c\\uad6d\\uc601\", \"\\uc5f0\\uc608\\uacc4\", \"\\uc9c0\\ub8e8\\ud568\", \"\\uac08\\uc218\\ub85d\", \"\\uc11c\\uc2a4\\ud39c\\uc2a4\", \"\\ucd5c\\uace0\\ub2e4\", \"\\ub204\\uad70\\uac00\", \"\\uc6b0\\ub9ac\\ub098\\ub77c\", \"\\uc5ec\\ubc30\\uc6b0\", \"\\uc2a4\\ud1a0\\ub9ac\", \"\\uc8fc\\uc778\\uacf5\", \"\\uc774\\uc57c\\uae30\", \"\\ub9c8\\uc9c0\\ub9c9\", \"\\ud3ec\\uc2a4\\ud130\", \"\\uce90\\uc2a4\\ud305\", \"\\uc2dc\\ub9ac\\uc988\", \"\\uc774\\uc601\\ud654\", \"\\uc5b4\\ub9b0\\uc774\", \"\\uc2dc\\ub098\\ub9ac\\uc624\", \"\\uac08\\uc218\\ub85d\", \"\\ucd5c\\uace0\\ub2e4\", \"\\uc6b0\\ub9ac\\ub098\\ub77c\", \"\\uc5ec\\ubc30\\uc6b0\", \"\\ubab0\\uc785\\ub3c4\", \"\\ud55c\\ub9c8\\ub514\", \"\\ub124\\uc774\\ubc84\", \"\\uc601\\ud654\\uad00\", \"\\uc544\\uc800\\uc528\", \"\\uce90\\ub9ad\\ud130\", \"\\ucd08\\ub4f1\\ud559\\uad50\", \"\\uadf9\\uc7a5\\ud310\", \"\\uc138\\ub974\\uac8c\\uc774\", \"\\uc544\\ubb34\\ub098\", \"\\uac00\\uc2b4\\uc18d\", \"\\uc561\\uc158\\uc601\\ud654\", \"\\uc678\\uacc4\\uc778\", \"\\uc5b4\\uac70\\uc9c0\", \"\\uacac\\uc790\\ub2e8\", \"\\uc5ec\\uc790\\uc560\", \"\\ud55c\\uc11d\\uaddc\", \"\\ub4dc\\ub77c\\ub9c8\", \"\\uc4f0\\ub808\\uae30\", \"\\uc2a4\\ub9b4\\ub7ec\", \"\\ube44\\ub514\\uc624\", \"\\uae34\\uc7a5\\uac10\", \"\\uacf5\\ud3ec\\uc601\\ud654\", \"\\uc2dc\\uccad\\ub960\", \"\\ucf54\\ubbf8\\ub514\", \"\\ub85c\\ub9e8\\uc2a4\", \"\\uadf8\\ub300\\ub85c\", \"\\ud654\\uc774\\ud305\", \"\\ud55c\\uad6d\\uc601\", \"\\uc5f0\\uc608\\uacc4\", \"\\uc9c0\\ub8e8\\ud568\", \"\\uc11c\\uc2a4\\ud39c\\uc2a4\", \"\\ub204\\uad70\\uac00\", \"\\uc5bc\\ub9c8\\ub098\", \"\\ubd84\\uc704\\uae30\", \"\\uc5f0\\uc608\\uc778\", \"\\ucf00\\uc774\\ube14\", \"\\uc54c\\ubc14\\uc0dd\", \"\\ubd23\\ub294\\ub370\", \"\\ub808\\uc804\\ub4dc\", \"\\uc2dc\\uc885\\uc77c\\uad00\", \"\\uc81c\\ub300\\ub85c\", \"\\uc2f8\\uc774\\ucf54\", \"\\uad70\\ub354\\ub354\\uae30\", \"\\ucd5c\\ub8e8\\uc131\", \"\\uc81c\\uc791\\uc790\", \"\\ud0ac\\ub9c1\\ud0c0\\uc784\", \"\\uc5f0\\uae30\\ub825\"], \"Freq\": [10.0, 9.0, 8.0, 7.0, 6.0, 5.0, 3.0, 3.0, 3.0, 2.0, 2.0, 2.0, 2.0, 2.0, 2.0, 2.0, 2.0, 2.0, 2.0, 2.0, 2.0, 1.0, 1.0, 1.0, 2.0, 1.0, 2.0, 1.0, 2.0, 2.0, 9.703454913897463, 7.338977030461844, 5.85484698267628, 5.116235403945216, 3.3894480688364443, 3.2299784452421494, 2.6180074075775015, 2.307169368284954, 2.2763331057716867, 2.1160883215631974, 1.8995836408721498, 1.8522233535549244, 1.802594794080533, 1.7550500998944518, 1.71201982202328, 1.697828961935166, 1.6888824612136046, 1.514348495954934, 1.514325569064478, 1.5425698072775849, 1.6876401832682628, 1.4165359996898048, 1.3192068509007346, 1.3192065309332814, 1.3192064218384159, 1.2643764720833215, 1.25850469291815, 1.204293626679264, 1.1928997057335682, 1.1792046023842704, 1.2271761463609583, 10.239122286694094, 8.260050525951803, 2.7319200196720286, 2.4227888157495943, 2.3755641203813536, 2.344440876400184, 2.61662505177782, 2.1656030374648263, 2.3108213688592034, 1.9928074566150438, 1.8963591555316213, 1.7215013489541906, 1.6732805544509721, 1.608842949933298, 1.584823032929111, 1.5625065393414332, 1.379243297186437, 1.332343475436012, 1.294519127598297, 1.3011566843922144, 1.30115658361806, 1.3011561614007805, 1.3589398663731753, 1.1628213507596716, 1.1682229932231347, 1.1682174990022367, 1.1487268885126958, 1.0853080591118311, 1.0748800021174698, 1.0572141698048336, 2.086499547175009], \"Total\": [10.0, 9.0, 8.0, 7.0, 6.0, 5.0, 3.0, 3.0, 3.0, 2.0, 2.0, 2.0, 2.0, 2.0, 2.0, 2.0, 2.0, 2.0, 2.0, 2.0, 2.0, 1.0, 1.0, 1.0, 2.0, 1.0, 2.0, 1.0, 2.0, 2.0, 9.994027033910207, 7.640803117533123, 6.142947789984539, 5.401051810263501, 3.6752176101711873, 3.5162610344984087, 2.9038079874977862, 2.580296923949806, 2.55010635604534, 2.3900199046767496, 2.1756788056890803, 2.1269074556242713, 2.077796720702877, 2.0262864107878604, 1.984623246840485, 1.970010381405559, 1.9626640989413424, 1.787174279868486, 1.7871739391823578, 1.8240190408957218, 2.0070054922087084, 1.6877152153701755, 1.5941409990229063, 1.5941409942682945, 1.5941409926471803, 1.535659994700069, 1.532176967843176, 1.4758721538134898, 1.466140857663004, 1.4525055957204003, 1.524668497504921, 10.528642609016519, 8.536320017876747, 3.012847214598603, 2.7024604681466573, 2.6511938780834683, 2.6309523709035623, 2.9517069718852897, 2.447103902874186, 2.6216170275047936, 2.2689783670528834, 2.172412021771228, 1.997867277307541, 1.949768707774663, 1.8851180334065076, 1.8613095615933961, 1.8558484779930073, 1.6545994382742066, 1.6125742326224293, 1.5681224067305333, 1.578661648105677, 1.5786616496257357, 1.5786616559943831, 1.6659725826162153, 1.4361986899473789, 1.4442544209199935, 1.444254503793805, 1.4249182932922975, 1.3610749061246978, 1.3508029141498141, 1.340407318767477, 3.1442156044257277], \"Category\": [\"Default\", \"Default\", \"Default\", \"Default\", \"Default\", \"Default\", \"Default\", \"Default\", \"Default\", \"Default\", \"Default\", \"Default\", \"Default\", \"Default\", \"Default\", \"Default\", \"Default\", \"Default\", \"Default\", \"Default\", \"Default\", \"Default\", \"Default\", \"Default\", \"Default\", \"Default\", \"Default\", \"Default\", \"Default\", \"Default\", \"Topic1\", \"Topic1\", \"Topic1\", \"Topic1\", \"Topic1\", \"Topic1\", \"Topic1\", \"Topic1\", \"Topic1\", \"Topic1\", \"Topic1\", \"Topic1\", \"Topic1\", \"Topic1\", \"Topic1\", \"Topic1\", \"Topic1\", \"Topic1\", \"Topic1\", \"Topic1\", \"Topic1\", \"Topic1\", \"Topic1\", \"Topic1\", \"Topic1\", \"Topic1\", \"Topic1\", \"Topic1\", \"Topic1\", \"Topic1\", \"Topic1\", \"Topic2\", \"Topic2\", \"Topic2\", \"Topic2\", \"Topic2\", \"Topic2\", \"Topic2\", \"Topic2\", \"Topic2\", \"Topic2\", \"Topic2\", \"Topic2\", \"Topic2\", \"Topic2\", \"Topic2\", \"Topic2\", \"Topic2\", \"Topic2\", \"Topic2\", \"Topic2\", \"Topic2\", \"Topic2\", \"Topic2\", \"Topic2\", \"Topic2\", \"Topic2\", \"Topic2\", \"Topic2\", \"Topic2\", \"Topic2\", \"Topic2\"], \"logprob\": [30.0, 29.0, 28.0, 27.0, 26.0, 25.0, 24.0, 23.0, 22.0, 21.0, 20.0, 19.0, 18.0, 17.0, 16.0, 15.0, 14.0, 13.0, 12.0, 11.0, 10.0, 9.0, 8.0, 7.0, 6.0, 5.0, 4.0, 3.0, 2.0, 1.0, -3.5769, -3.8562, -4.0821, -4.217, -4.6287, -4.6769, -4.887, -5.0133, -5.0268, -5.0998, -5.2077, -5.233, -5.2601, -5.2869, -5.3117, -5.32, -5.3253, -5.4344, -5.4344, -5.4159, -5.326, -5.5012, -5.5723, -5.5723, -5.5723, -5.6148, -5.6194, -5.6635, -5.673, -5.6845, -5.6447, -3.4523, -3.6671, -4.7735, -4.8936, -4.9133, -4.9264, -4.8166, -5.0058, -4.9409, -5.0889, -5.1386, -5.2353, -5.2637, -5.303, -5.318, -5.3322, -5.457, -5.4916, -5.5204, -5.5152, -5.5152, -5.5152, -5.4718, -5.6276, -5.623, -5.623, -5.6398, -5.6966, -5.7063, -5.7229, -5.043], \"loglift\": [30.0, 29.0, 28.0, 27.0, 26.0, 25.0, 24.0, 23.0, 22.0, 21.0, 20.0, 19.0, 18.0, 17.0, 16.0, 15.0, 14.0, 13.0, 12.0, 11.0, 10.0, 9.0, 8.0, 7.0, 6.0, 5.0, 4.0, 3.0, 2.0, 1.0, 0.6288, 0.618, 0.6103, 0.6042, 0.5774, 0.5734, 0.5547, 0.5465, 0.5448, 0.5366, 0.5226, 0.5201, 0.5163, 0.5146, 0.5106, 0.5096, 0.5081, 0.4927, 0.4927, 0.4907, 0.485, 0.4832, 0.469, 0.469, 0.469, 0.464, 0.4616, 0.455, 0.4521, 0.4499, 0.4413, 0.7013, 0.6963, 0.6313, 0.62, 0.6194, 0.6139, 0.6087, 0.607, 0.603, 0.5994, 0.5933, 0.5803, 0.5763, 0.5707, 0.5684, 0.5572, 0.5472, 0.5383, 0.5375, 0.5359, 0.5359, 0.5359, 0.5255, 0.5181, 0.5171, 0.5171, 0.5138, 0.5028, 0.5007, 0.4919, 0.3191]}, \"token.table\": {\"Topic\": [1, 1, 1, 2, 2, 2, 1, 2, 1, 2, 2, 2, 2, 1, 1, 2, 2, 2, 2, 1, 2, 1, 1, 1, 2, 2, 2, 2, 1, 1, 2, 1, 1, 1, 2, 1, 1, 1, 2, 2, 2, 1, 1, 1, 1, 1, 2, 2, 1, 2, 1, 1, 2, 1, 1, 2, 2, 2, 1, 2, 1, 1, 2], \"Freq\": [0.6272970864010162, 0.9192533359107483, 0.6820627054851863, 0.7601809983785944, 0.7017946254935666, 0.881453974635178, 0.5925170259134416, 0.7543771191286047, 1.019023072301978, 1.0776741871528672, 0.9497900509450478, 0.6002499743600923, 0.7628879348192069, 0.9257456094938045, 1.0077479457040497, 0.6334479565034535, 0.6201264907809931, 0.740066329766369, 1.074512290308054, 0.6272970838921577, 0.9957358559251354, 1.0005976535854393, 0.8368131144374298, 1.0331261615493739, 0.6962824900199841, 1.0163610509358472, 0.692398740923552, 0.9371719878409447, 0.6272970857631052, 1.119085253064406, 0.6334479590589136, 0.6511858116062409, 0.6775654635234569, 0.7842810144991619, 0.604375885104269, 0.9870272974995475, 0.6884655060513066, 0.3180443474017565, 0.636088694803513, 1.025762692787632, 0.6377053192454257, 1.119085039735003, 0.6526661221175293, 0.9625580693588928, 0.9767297729247185, 0.7751045941404632, 0.6923987806545869, 0.7403004461456859, 0.9161340623915971, 1.060941524380781, 0.9965094802999274, 0.9403324036084952, 0.7347134206207919, 1.0964797818217178, 0.8531789791959934, 0.6334479596688467, 0.8172926362672828, 0.7460418829401154, 0.8162781957992042, 1.0010674996866324, 1.0152230764251324, 0.6558802793108621, 0.9206356712983683], \"Term\": [\"\\uac00\\uc2b4\\uc18d\", \"\\uac08\\uc218\\ub85d\", \"\\uacac\\uc790\\ub2e8\", \"\\uacf5\\ud3ec\\uc601\\ud654\", \"\\uad70\\ub354\\ub354\\uae30\", \"\\uadf8\\ub300\\ub85c\", \"\\uadf9\\uc7a5\\ud310\", \"\\uae34\\uc7a5\\uac10\", \"\\ub124\\uc774\\ubc84\", \"\\ub204\\uad70\\uac00\", \"\\ub4dc\\ub77c\\ub9c8\", \"\\ub808\\uc804\\ub4dc\", \"\\ub85c\\ub9e8\\uc2a4\", \"\\ub9c8\\uc9c0\\ub9c9\", \"\\ubab0\\uc785\\ub3c4\", \"\\ubd23\\ub294\\ub370\", \"\\ubd84\\uc704\\uae30\", \"\\ube44\\ub514\\uc624\", \"\\uc11c\\uc2a4\\ud39c\\uc2a4\", \"\\uc138\\ub974\\uac8c\\uc774\", \"\\uc2a4\\ub9b4\\ub7ec\", \"\\uc2a4\\ud1a0\\ub9ac\", \"\\uc2dc\\ub098\\ub9ac\\uc624\", \"\\uc2dc\\ub9ac\\uc988\", \"\\uc2dc\\uc885\\uc77c\\uad00\", \"\\uc2dc\\uccad\\ub960\", \"\\uc2f8\\uc774\\ucf54\", \"\\uc4f0\\ub808\\uae30\", \"\\uc544\\ubb34\\ub098\", \"\\uc544\\uc800\\uc528\", \"\\uc54c\\ubc14\\uc0dd\", \"\\uc561\\uc158\\uc601\\ud654\", \"\\uc5b4\\uac70\\uc9c0\", \"\\uc5b4\\ub9b0\\uc774\", \"\\uc5bc\\ub9c8\\ub098\", \"\\uc5ec\\ubc30\\uc6b0\", \"\\uc5ec\\uc790\\uc560\", \"\\uc5f0\\uae30\\ub825\", \"\\uc5f0\\uae30\\ub825\", \"\\uc5f0\\uc608\\uacc4\", \"\\uc5f0\\uc608\\uc778\", \"\\uc601\\ud654\\uad00\", \"\\uc678\\uacc4\\uc778\", \"\\uc6b0\\ub9ac\\ub098\\ub77c\", \"\\uc774\\uc57c\\uae30\", \"\\uc774\\uc601\\ud654\", \"\\uc81c\\ub300\\ub85c\", \"\\uc81c\\uc791\\uc790\", \"\\uc8fc\\uc778\\uacf5\", \"\\uc9c0\\ub8e8\\ud568\", \"\\ucd08\\ub4f1\\ud559\\uad50\", \"\\ucd5c\\uace0\\ub2e4\", \"\\ucd5c\\ub8e8\\uc131\", \"\\uce90\\ub9ad\\ud130\", \"\\uce90\\uc2a4\\ud305\", \"\\ucf00\\uc774\\ube14\", \"\\ucf54\\ubbf8\\ub514\", \"\\ud0ac\\ub9c1\\ud0c0\\uc784\", \"\\ud3ec\\uc2a4\\ud130\", \"\\ud55c\\uad6d\\uc601\", \"\\ud55c\\ub9c8\\ub514\", \"\\ud55c\\uc11d\\uaddc\", \"\\ud654\\uc774\\ud305\"]}, \"R\": 30, \"lambda.step\": 0.01, \"plot.opts\": {\"xlab\": \"PC1\", \"ylab\": \"PC2\"}, \"topic.order\": [1, 2]};\n",
              "\n",
              "function LDAvis_load_lib(url, callback){\n",
              "  var s = document.createElement('script');\n",
              "  s.src = url;\n",
              "  s.async = true;\n",
              "  s.onreadystatechange = s.onload = callback;\n",
              "  s.onerror = function(){console.warn(\"failed to load library \" + url);};\n",
              "  document.getElementsByTagName(\"head\")[0].appendChild(s);\n",
              "}\n",
              "\n",
              "if(typeof(LDAvis) !== \"undefined\"){\n",
              "   // already loaded: just create the visualization\n",
              "   !function(LDAvis){\n",
              "       new LDAvis(\"#\" + \"ldavis_el630821398962813659682131943878\", ldavis_el630821398962813659682131943878_data);\n",
              "   }(LDAvis);\n",
              "}else if(typeof define === \"function\" && define.amd){\n",
              "   // require.js is available: use it to load d3/LDAvis\n",
              "   require.config({paths: {d3: \"https://d3js.org/d3.v5\"}});\n",
              "   require([\"d3\"], function(d3){\n",
              "      window.d3 = d3;\n",
              "      LDAvis_load_lib(\"https://cdn.jsdelivr.net/gh/bmabey/pyLDAvis@3.3.1/pyLDAvis/js/ldavis.v3.0.0.js\", function(){\n",
              "        new LDAvis(\"#\" + \"ldavis_el630821398962813659682131943878\", ldavis_el630821398962813659682131943878_data);\n",
              "      });\n",
              "    });\n",
              "}else{\n",
              "    // require.js not available: dynamically load d3 & LDAvis\n",
              "    LDAvis_load_lib(\"https://d3js.org/d3.v5.js\", function(){\n",
              "         LDAvis_load_lib(\"https://cdn.jsdelivr.net/gh/bmabey/pyLDAvis@3.3.1/pyLDAvis/js/ldavis.v3.0.0.js\", function(){\n",
              "                 new LDAvis(\"#\" + \"ldavis_el630821398962813659682131943878\", ldavis_el630821398962813659682131943878_data);\n",
              "            })\n",
              "         });\n",
              "}\n",
              "</script>"
            ]
          },
          "metadata": {},
          "execution_count": 26
        }
      ]
    },
    {
      "cell_type": "code",
      "source": [
        "labels = data['label'].iloc[:1000].values\n",
        "print(labels.shape)\n",
        "print(labels[:5])"
      ],
      "metadata": {
        "colab": {
          "base_uri": "https://localhost:8080/"
        },
        "id": "21LWcdEXxRPy",
        "outputId": "b02ae929-872c-4c42-dc51-4976a5262638"
      },
      "execution_count": 27,
      "outputs": [
        {
          "output_type": "stream",
          "name": "stdout",
          "text": [
            "(1000,)\n",
            "[0 1 0 0 1]\n"
          ]
        }
      ]
    },
    {
      "cell_type": "code",
      "source": [
        "\n",
        "# 사이킷런 패키지 활용\n",
        "from sklearn.linear_model import LogisticRegression\n",
        "\n",
        "# 로지스틱 분류 모델링 객체를 생성 \n",
        "lr = LogisticRegression()\n",
        "\n",
        "# TF-IDF 벡터를 입력하여 모델 학습 \n",
        "lr.fit(review_tfid, labels)"
      ],
      "metadata": {
        "colab": {
          "base_uri": "https://localhost:8080/"
        },
        "id": "CMJJzLiTxLDE",
        "outputId": "576558ed-220c-4012-d09c-d1b6f1ab8d82"
      },
      "execution_count": 28,
      "outputs": [
        {
          "output_type": "execute_result",
          "data": {
            "text/plain": [
              "LogisticRegression()"
            ]
          },
          "metadata": {},
          "execution_count": 28
        }
      ]
    },
    {
      "cell_type": "code",
      "source": [
        "test = pd.read_csv('naver_review.csv')"
      ],
      "metadata": {
        "id": "6PiixUchxcw8"
      },
      "execution_count": 29,
      "outputs": []
    },
    {
      "cell_type": "code",
      "source": [
        "for page in range(10):\n",
        "  test_sample=test['review'][page]\n",
        "  test_sample = re.sub(r\"[^가-힣]\", \"\", test_sample)\n",
        "  tokens = okt.nouns(test_sample)\n",
        "  cleaned_tokens = []\n",
        "  for word in tokens:\n",
        "      if len(word) > 2:\n",
        "          cleaned_tokens.append(word)\n",
        "      else:\n",
        "          pass\n",
        "  cleaned_review = \" \".join(cleaned_tokens)\n",
        "  test_review_tfid = tfid.transform([cleaned_review])\n",
        "  test_pred = lr.predict(test_review_tfid)[0]\n",
        "  print(\"분석 결과 {}적인 리뷰로 예측됩니다. \".format(\"긍정\" if test_pred > 0 else \"부정\"))\n",
        "\n"
      ],
      "metadata": {
        "colab": {
          "base_uri": "https://localhost:8080/"
        },
        "id": "2uysTQtMxnE0",
        "outputId": "d4b6c952-f05e-42e0-a3d3-bbb3cb9ab813"
      },
      "execution_count": 30,
      "outputs": [
        {
          "output_type": "stream",
          "name": "stdout",
          "text": [
            "분석 결과 부정적인 리뷰로 예측됩니다. \n",
            "분석 결과 긍정적인 리뷰로 예측됩니다. \n",
            "분석 결과 부정적인 리뷰로 예측됩니다. \n",
            "분석 결과 부정적인 리뷰로 예측됩니다. \n",
            "분석 결과 부정적인 리뷰로 예측됩니다. \n",
            "분석 결과 부정적인 리뷰로 예측됩니다. \n",
            "분석 결과 부정적인 리뷰로 예측됩니다. \n",
            "분석 결과 긍정적인 리뷰로 예측됩니다. \n",
            "분석 결과 긍정적인 리뷰로 예측됩니다. \n",
            "분석 결과 부정적인 리뷰로 예측됩니다. \n"
          ]
        }
      ]
    }
  ]
}